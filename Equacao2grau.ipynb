{
  "nbformat": 4,
  "nbformat_minor": 0,
  "metadata": {
    "colab": {
      "provenance": [],
      "authorship_tag": "ABX9TyP4PzEhkDVwWODxCYwC+xRa",
      "include_colab_link": true
    },
    "kernelspec": {
      "name": "python3",
      "display_name": "Python 3"
    },
    "language_info": {
      "name": "python"
    }
  },
  "cells": [
    {
      "cell_type": "markdown",
      "metadata": {
        "id": "view-in-github",
        "colab_type": "text"
      },
      "source": [
        "<a href=\"https://colab.research.google.com/github/Rodrigo-Antonio-Silva/PythonProjects/blob/main/Equacao2grau.ipynb\" target=\"_parent\"><img src=\"https://colab.research.google.com/assets/colab-badge.svg\" alt=\"Open In Colab\"/></a>"
      ]
    },
    {
      "cell_type": "code",
      "metadata": {
        "id": "ek4rGJDHxFY-"
      },
      "source": [
        "while True:"
      ],
      "execution_count": null,
      "outputs": []
    },
    {
      "cell_type": "code",
      "metadata": {
        "id": "76CotRuZ5uzE"
      },
      "source": [
        "  a = int(input('Digite o primeiro termo: '))\n",
        "  b = int(input('Digite o segundo termo: '))\n",
        "  c = int(input('Digite o terceiro termo: '))"
      ],
      "execution_count": null,
      "outputs": []
    },
    {
      "cell_type": "code",
      "metadata": {
        "id": "8aIUlj056Rzl"
      },
      "source": [
        "  x = b ** 2 - (4 * a * c)"
      ],
      "execution_count": null,
      "outputs": []
    },
    {
      "cell_type": "code",
      "metadata": {
        "id": "lu-38XUz7M1t"
      },
      "source": [
        "  if x > 0:\n",
        "    z = (x ** 0.5)\n",
        "    z1 = (-(b) + z) / 2 * a\n",
        "    z2 = (-(b) - z) / 2 * a\n",
        "    print(f'1º raiz é {z1} 2º raiz é {z2}')\n",
        "  elif x == 0:\n",
        "    z = -(b)/(2 * a)\n",
        "    print(f'Delta igual a zero temos somente e raiz {z}')\n",
        "  else:\n",
        "    print(f'Delta negativo {x}')\n"
      ],
      "execution_count": null,
      "outputs": []
    },
    {
      "cell_type": "code",
      "metadata": {
        "id": "HyhHFr5jwxts"
      },
      "source": [
        "  resp = str(input('Deseja continuar: [S/N]: ')).upper().split()[0]"
      ],
      "execution_count": null,
      "outputs": []
    },
    {
      "cell_type": "code",
      "metadata": {
        "id": "eX4x2d26yduQ"
      },
      "source": [
        "  if resp == 'N':\n",
        "    break"
      ],
      "execution_count": null,
      "outputs": []
    }
  ]
}